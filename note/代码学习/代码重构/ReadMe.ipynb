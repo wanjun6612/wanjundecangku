{
 "cells": [
  {
   "cell_type": "markdown",
   "metadata": {},
   "source": [
    "# 代码重构\n",
    "\n",
    "### 代码重构笔记，使用 jupyter notebook编写\n",
    "\n",
    "### Github 加载速度慢，建议在<a href=\"http://nbviewer.jupyter.org/github/wanjun6612/wanjundecangku/tree/master/note/代码学习/代码重构/ReadMe.ipynb\" rel=\"nofollow\">Nbviewer</a>中查看\n",
    "\n",
    "\n",
    "***\n",
    "\n",
    "\n",
    "## 目录\n",
    "\n",
    "\n",
    "* <font size=4>第01章 <a href=\"重构第一个案例.ipynb\">重构第一个案例</a></font>"
   ]
  },
  {
   "cell_type": "code",
   "execution_count": null,
   "metadata": {},
   "outputs": [],
   "source": []
  }
 ],
 "metadata": {
  "kernelspec": {
   "display_name": "Python 3",
   "language": "python",
   "name": "python3"
  },
  "language_info": {
   "codemirror_mode": {
    "name": "ipython",
    "version": 3
   },
   "file_extension": ".py",
   "mimetype": "text/x-python",
   "name": "python",
   "nbconvert_exporter": "python",
   "pygments_lexer": "ipython3",
   "version": "3.4.1"
  }
 },
 "nbformat": 4,
 "nbformat_minor": 2
}
